{
 "cells": [
  {
   "cell_type": "markdown",
   "metadata": {},
   "source": [
    "## SpaCy Named Entity Extraction"
   ]
  },
  {
   "cell_type": "markdown",
   "metadata": {},
   "source": [
    "### Objective\n",
    "This notebook documents experiments done with the dLOC as Data newspaper data. The goal of the experiment was to identify names of places mentioned in association with hurricane mentions already identified using AntConc. The document used for this experiment contains all of the collacates surrounding the word \"hurricane\" found in the Barbados Mercury and  from 1783-1848. \n",
    "#### Created by Molly Castro\n",
    "#### Date: 9/14/2020\n"
   ]
  },
  {
   "cell_type": "markdown",
   "metadata": {},
   "source": [
    "Install Spacy and download the English language model "
   ]
  },
  {
   "cell_type": "code",
   "execution_count": 11,
   "metadata": {
    "scrolled": true
   },
   "outputs": [
    {
     "name": "stdout",
     "output_type": "stream",
     "text": [
      "Requirement already satisfied: spacy in ./opt/anaconda3/lib/python3.7/site-packages (2.1.8)\n",
      "Requirement already satisfied: wasabi<1.1.0,>=0.2.0 in ./opt/anaconda3/lib/python3.7/site-packages (from spacy) (0.7.1)\n",
      "Requirement already satisfied: srsly<1.1.0,>=0.0.6 in ./opt/anaconda3/lib/python3.7/site-packages (from spacy) (0.1.0)\n",
      "Requirement already satisfied: requests<3.0.0,>=2.13.0 in ./opt/anaconda3/lib/python3.7/site-packages (from spacy) (2.22.0)\n",
      "Requirement already satisfied: preshed<2.1.0,>=2.0.1 in ./opt/anaconda3/lib/python3.7/site-packages (from spacy) (2.0.1)\n",
      "Requirement already satisfied: plac<1.0.0,>=0.9.6 in ./opt/anaconda3/lib/python3.7/site-packages (from spacy) (0.9.6)\n",
      "Requirement already satisfied: blis<0.3.0,>=0.2.2 in ./opt/anaconda3/lib/python3.7/site-packages (from spacy) (0.2.4)\n",
      "Requirement already satisfied: murmurhash<1.1.0,>=0.28.0 in ./opt/anaconda3/lib/python3.7/site-packages (from spacy) (1.0.0)\n",
      "Requirement already satisfied: thinc<7.1.0,>=7.0.8 in ./opt/anaconda3/lib/python3.7/site-packages (from spacy) (7.0.8)\n",
      "Requirement already satisfied: numpy>=1.15.0 in ./opt/anaconda3/lib/python3.7/site-packages (from spacy) (1.18.1)\n",
      "Requirement already satisfied: cymem<2.1.0,>=2.0.2 in ./opt/anaconda3/lib/python3.7/site-packages (from spacy) (2.0.2)\n",
      "Requirement already satisfied: urllib3!=1.25.0,!=1.25.1,<1.26,>=1.21.1 in ./opt/anaconda3/lib/python3.7/site-packages (from requests<3.0.0,>=2.13.0->spacy) (1.25.8)\n",
      "Requirement already satisfied: chardet<3.1.0,>=3.0.2 in ./opt/anaconda3/lib/python3.7/site-packages (from requests<3.0.0,>=2.13.0->spacy) (3.0.4)\n",
      "Requirement already satisfied: certifi>=2017.4.17 in ./opt/anaconda3/lib/python3.7/site-packages (from requests<3.0.0,>=2.13.0->spacy) (2019.11.28)\n",
      "Requirement already satisfied: idna<2.9,>=2.5 in ./opt/anaconda3/lib/python3.7/site-packages (from requests<3.0.0,>=2.13.0->spacy) (2.8)\n",
      "Requirement already satisfied: tqdm<5.0.0,>=4.10.0 in ./opt/anaconda3/lib/python3.7/site-packages (from thinc<7.1.0,>=7.0.8->spacy) (4.42.1)\n",
      "Requirement already satisfied: en_core_web_sm==2.1.0 from https://github.com/explosion/spacy-models/releases/download/en_core_web_sm-2.1.0/en_core_web_sm-2.1.0.tar.gz#egg=en_core_web_sm==2.1.0 in ./opt/anaconda3/lib/python3.7/site-packages (2.1.0)\n",
      "\u001b[38;5;2m✔ Download and installation successful\u001b[0m\n",
      "You can now load the model via spacy.load('en_core_web_sm')\n",
      "\u001b[38;5;2m✔ Linking successful\u001b[0m\n",
      "/Users/molly/opt/anaconda3/lib/python3.7/site-packages/en_core_web_sm -->\n",
      "/Users/molly/opt/anaconda3/lib/python3.7/site-packages/spacy/data/en\n",
      "You can now load the model via spacy.load('en')\n",
      "Note: you may need to restart the kernel to use updated packages.\n"
     ]
    }
   ],
   "source": [
    "pip install spacy && python -m spacy download en"
   ]
  },
  {
   "cell_type": "code",
   "execution_count": 12,
   "metadata": {},
   "outputs": [],
   "source": [
    "import spacy \n",
    "nlp=spacy.load(\"en_core_web_sm\")\n"
   ]
  },
  {
   "cell_type": "markdown",
   "metadata": {},
   "source": [
    "Bring in the document you plan to use (the output from the Antconc collocation)"
   ]
  },
  {
   "cell_type": "code",
   "execution_count": 17,
   "metadata": {},
   "outputs": [],
   "source": [
    "import os.path"
   ]
  },
  {
   "cell_type": "code",
   "execution_count": 18,
   "metadata": {},
   "outputs": [],
   "source": [
    "fname = os.path.expanduser('~/desktop/antconc_results_bm.txt')\n",
    "with open(fname) as fp:\n",
    "    data = fp.read()\n"
   ]
  },
  {
   "cell_type": "markdown",
   "metadata": {},
   "source": [
    "Bring up the loaded NLP object on the text"
   ]
  },
  {
   "cell_type": "code",
   "execution_count": 19,
   "metadata": {},
   "outputs": [],
   "source": [
    "doc = nlp(data)"
   ]
  },
  {
   "cell_type": "markdown",
   "metadata": {},
   "source": [
    "I started with this “test” to bring up the first ten entities (ent) and their labels. Complete list of labels for named entities in SpaCy can be found here: https://spacy.io/api/annotation#named-entities"
   ]
  },
  {
   "cell_type": "code",
   "execution_count": 22,
   "metadata": {
    "scrolled": true
   },
   "outputs": [
    {
     "name": "stdout",
     "output_type": "stream",
     "text": [
      "1 -> CARDINAL\n",
      "Benjamin Alleyne Cox -> PERSON\n",
      "Eig -> PERSON\n",
      "Ortley Capt -> ORG\n",
      "London  -> GPE\n",
      "each day  -> DATE\n",
      "ten  -> CARDINAL\n",
      "more than one  -> CARDINAL\n",
      "2 -> CARDINAL\n",
      "LIC  -> ORG\n"
     ]
    }
   ],
   "source": [
    "for ent in doc.ents [:10]:\n",
    "    print('{} -> {}'.format(ent.string, ent.label_))"
   ]
  },
  {
   "cell_type": "markdown",
   "metadata": {},
   "source": [
    "For this project we are interested in geopolitical entities in SpaCy, or GPE. Others of interest for future explorations might be LOC for non-GPE locations, such as mountain ranges or bodies of water. Or EVENT which includes named hurricanes.\n",
    "\n",
    "To pull up just the GPE for the entire document we use this:\n"
   ]
  },
  {
   "cell_type": "code",
   "execution_count": 23,
   "metadata": {},
   "outputs": [
    {
     "data": {
      "text/plain": [
       "[London,\n",
       " London,\n",
       " Spcights Town,\n",
       " London,\n",
       " Londo,\n",
       " Adventire,\n",
       " London,\n",
       " Cumberland,\n",
       " Benjamin,\n",
       " Meffrs,\n",
       " Melis,\n",
       " America,\n",
       " St. Michael,\n",
       " AA00047511_00035.txt,\n",
       " Jamaica,\n",
       " Cuba,\n",
       " Pert Roya,\n",
       " Iphigenia,\n",
       " Cadiz,\n",
       " Sept,\n",
       " Sty Joliph's,\n",
       " France,\n",
       " St. Michael,\n",
       " Island,\n",
       " Thu,\n",
       " Pallas,\n",
       " Jamaica,\n",
       " —By,\n",
       " Island,\n",
       " Goverument,\n",
       " Ordinary,\n",
       " Norway,\n",
       " Sweden,\n",
       " Ordinary,\n",
       " France,\n",
       " St. Bartholomew,\n",
       " Charlestown,\n",
       " South Carolina,\n",
       " San Guillermo,\n",
       " Great Britain,\n",
       " St. Lucia,\n",
       " Lat,\n",
       " Yorkshire,\n",
       " Dominica,\n",
       " Lydia,\n",
       " St. Vincent,\n",
       " Dominica,\n",
       " St. Mich. Regt,\n",
       " Antigua,\n",
       " St. Mich,\n",
       " St. Denys,\n",
       " Barb,\n",
       " Ordinary,\n",
       " Ordinary,\n",
       " Youn SrooneR.,\n",
       " Ceuta,\n",
       " S.E.,\n",
       " Island,\n",
       " England,\n",
       " Jamaica,\n",
       " Cuba,\n",
       " Dominica,\n",
       " Tr,\n",
       " Barbados,\n",
       " Concord,\n",
       " Barbados,\n",
       " Lancasler,\n",
       " Barbados,\n",
       " St. Pierre,\n",
       " St.  ,\n",
       " Island,\n",
       " the West Indies,\n",
       " Island,\n",
       " St. Lucia,\n",
       " Pifunids,\n",
       " St. Lucia,\n",
       " St. Lucia,\n",
       " Cobham,\n",
       " ——,\n",
       " Dominica,\n",
       " Lodge,\n",
       " St. Denys,\n",
       " Ordinary,\n",
       " Jamaica,\n",
       " Sugar,\n",
       " Newfoundtand,\n",
       " States,\n",
       " Ordinary,\n",
       " Oct.,\n",
       " St. Thomas,\n",
       " Ordinary,\n",
       " Island,\n",
       " Island,\n",
       " Jetter,\n",
       " Grenada,\n",
       " Ordinary,\n",
       " Bools,\n",
       " the United States of America,\n",
       " Kam!s,\n",
       " Island,\n",
       " St. Vineent,\n",
       " Grenada,\n",
       " Town,\n",
       " Israel,\n",
       " Town,\n",
       " Articles,\n",
       " Articles,\n",
       " New Orleans,\n",
       " Town,\n",
       " Town,\n",
       " Town,\n",
       " Island,\n",
       " Worthing,\n",
       " Worthing,\n",
       " Ordinary,\n",
       " Town,\n",
       " the Islands of Dominica,\n",
       " Government,\n",
       " Ordinary,\n",
       " Orf,\n",
       " Decatur,\n",
       " Wiscasset,\n",
       " Trinidad,\n",
       " Liverpool,\n",
       " the Island of Dominica,\n",
       " Scotland,\n",
       " Ordinary,\n",
       " Leon,\n",
       " Madrid,\n",
       " England,\n",
       " West India,\n",
       " Boston,\n",
       " Brighton,\n",
       " Dominica,\n",
       " Dominica,\n",
       " Dominica,\n",
       " Roseau,\n",
       " West India,\n",
       " Grenada,\n",
       " Jamaica,\n",
       " Montague,\n",
       " Auguet,\n",
       " Hurricane,\n",
       " Dominica,\n",
       " the Republicanism States,\n",
       " London,\n",
       " London,\n",
       " Dublin,\n",
       " England,\n",
       " Ireland,\n",
       " St. Pierre,\n",
       " Barbados,\n",
       " Fort Royal,\n",
       " Halten,\n",
       " Town,\n",
       " Eugland,\n",
       " West India,\n",
       " Barbadoes,\n",
       " St. Vincent,\n",
       " St. Lucia,\n",
       " Barbadoes,\n",
       " St. Vincent,\n",
       " St. Lucia,\n",
       " Barbados,\n",
       " St. Vincent,\n",
       " St. Lucia,\n",
       " Trividad,\n",
       " St. Lucia,\n",
       " Trividad,\n",
       " St. Michael,\n",
       " Vesse,\n",
       " Goldsbroneh,\n",
       " Scarbrough,\n",
       " Bar,\n",
       " Com,\n",
       " St. Chris-,\n",
       " Bar,\n",
       " St. Kitts,\n",
       " St. Lucy,\n",
       " Trustees]"
      ]
     },
     "execution_count": 23,
     "metadata": {},
     "output_type": "execute_result"
    }
   ],
   "source": [
    "[ent for ent in doc.ents if ent.label == spacy.symbols.GPE] "
   ]
  }
 ],
 "metadata": {
  "kernelspec": {
   "display_name": "Python 3",
   "language": "python",
   "name": "python3"
  },
  "language_info": {
   "codemirror_mode": {
    "name": "ipython",
    "version": 3
   },
   "file_extension": ".py",
   "mimetype": "text/x-python",
   "name": "python",
   "nbconvert_exporter": "python",
   "pygments_lexer": "ipython3",
   "version": "3.7.6"
  }
 },
 "nbformat": 4,
 "nbformat_minor": 4
}
